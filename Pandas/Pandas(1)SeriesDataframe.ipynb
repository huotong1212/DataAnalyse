{
 "cells": [
  {
   "cell_type": "code",
   "execution_count": null,
   "metadata": {},
   "outputs": [],
   "source": [
    "'''\n",
    "【课程2.2】  Pandas数据结构Series：基本概念及创建\n",
    "\n",
    "\"一维数组\"Serise\n",
    "\n",
    "'''"
   ]
  },
  {
   "cell_type": "code",
   "execution_count": 2,
   "metadata": {},
   "outputs": [
    {
     "name": "stdout",
     "output_type": "stream",
     "text": [
      "[0.65459383 0.50536351 0.60767807 0.57021068 0.19890865]\n",
      "a    0.654594\n",
      "b    0.505364\n",
      "c    0.607678\n",
      "d    0.570211\n",
      "e    0.198909\n",
      "dtype: float64\n",
      "<class 'pandas.core.series.Series'>\n",
      "------\n",
      "Index(['a', 'b', 'c', 'd', 'e'], dtype='object') ['a', 'b', 'c', 'd', 'e']\n",
      "[0.65459383 0.50536351 0.60767807 0.57021068 0.19890865] <class 'numpy.ndarray'>\n"
     ]
    }
   ],
   "source": [
    "# Series 数据结构\n",
    "# Series 是带有标签的一维数组，可以保存任何数据类型（整数，字符串，浮点数，Python对象等）,轴标签统称为索引\n",
    "\n",
    "import numpy as np\n",
    "import pandas as pd\n",
    "\n",
    "ar = np.random.rand(5)\n",
    "s = pd.Series(ar,index=list('abcde')) # 默认的index是数字，也可以指定index为字母等,但是提供的index必须和元素数量一致\n",
    "\n",
    "print(ar)\n",
    "print(s)\n",
    "print(type(s)) \n",
    "print('------')\n",
    "\n",
    "print(s.index,list(s.index)) # 这是一个生成器\n",
    "print(s.values,type(s.values))  # 查看数组中的值，以列表形式返回\n",
    "# .index查看series索引，类型为rangeindex\n",
    "# .values查看series值，类型是ndarray\n",
    "\n",
    "# 核心：series相比于ndarray，是一个自带索引index的数组 → 一维数组 + 对应索引\n",
    "# 所以当只看series的值的时候，就是一个ndarray\n",
    "# series和ndarray较相似，索引切片功能差别不大\n",
    "# series和dict相比，series更像一个有顺序的字典（dict本身不存在顺序），其索引原理与字典相似（一个用key，一个用index）"
   ]
  },
  {
   "cell_type": "code",
   "execution_count": 8,
   "metadata": {},
   "outputs": [
    {
     "name": "stdout",
     "output_type": "stream",
     "text": [
      "a    1\n",
      "b    2\n",
      "c    3\n",
      "4    4\n",
      "5    5\n",
      "dtype: int64\n"
     ]
    }
   ],
   "source": [
    "# Series 创建方法一：由字典创建，字典的key就是index，values就是values\n",
    "\n",
    "dic = {'a':1 ,'b':2 , 'c':3, '4':4, '5':5} # 这里的key可以为任意的基本类型\n",
    "s = pd.Series(dic)\n",
    "print(s)\n",
    "# 注意：key肯定是字符串，假如values类型不止一个会怎么样？ → dic = {'a':1 ,'b':'hello' , 'c':3, '4':4, '5':5}"
   ]
  },
  {
   "cell_type": "code",
   "execution_count": 11,
   "metadata": {},
   "outputs": [
    {
     "name": "stdout",
     "output_type": "stream",
     "text": [
      "[ 0.91786854  0.86101153 -0.66725857 -0.40829045  1.69792589]\n",
      "0    0.917869\n",
      "1    0.861012\n",
      "2   -0.667259\n",
      "3   -0.408290\n",
      "4    1.697926\n",
      "dtype: float64\n",
      "a    0.917869\n",
      "b    0.861012\n",
      "c   -0.667259\n",
      "d    -0.40829\n",
      "e     1.69793\n",
      "dtype: object\n"
     ]
    }
   ],
   "source": [
    "# Series 创建方法二：由数组创建(一维数组)\n",
    "\n",
    "arr = np.random.randn(5)\n",
    "s = pd.Series(arr)\n",
    "print(arr)\n",
    "print(s)\n",
    "# 默认index是从0开始，步长为1的数字\n",
    "\n",
    "s = pd.Series(arr, index = ['a','b','c','d','e'],dtype = np.object) # np.object = np.str 表示子元素是字符串类型\n",
    "print(s)\n",
    "# index参数：设置index，长度保持一致\n",
    "# dtype参数：设置数值类型"
   ]
  },
  {
   "cell_type": "code",
   "execution_count": 12,
   "metadata": {},
   "outputs": [
    {
     "name": "stdout",
     "output_type": "stream",
     "text": [
      "0    10\n",
      "1    10\n",
      "2    10\n",
      "3    10\n",
      "dtype: int64\n"
     ]
    }
   ],
   "source": [
    "# Series 创建方法三：由标量创建\n",
    "\n",
    "s = pd.Series(10, index = range(4)) # 这里的index就等于创建的长度\n",
    "print(s)\n",
    "# 如果data是标量值，则必须提供索引。该值会重复，来匹配索引的长度"
   ]
  },
  {
   "cell_type": "markdown",
   "metadata": {},
   "source": [
    "###### 课堂作业 ######"
   ]
  },
  {
   "cell_type": "code",
   "execution_count": 15,
   "metadata": {},
   "outputs": [
    {
     "name": "stdout",
     "output_type": "stream",
     "text": [
      "Jack     92.0\n",
      "Marry    92.0\n",
      "Tom      89.0\n",
      "Zack     65.0\n",
      "Name: 作业一, dtype: float64\n"
     ]
    }
   ],
   "source": [
    "# 字典方式创建\n",
    "dictionary = {'Jack':92,'Marry':92,'Tom':89,'Zack':65}\n",
    "\n",
    "s = pd.Series(dictionary,dtype=np.float64,name='作业一')\n",
    "print(s)"
   ]
  },
  {
   "cell_type": "code",
   "execution_count": 18,
   "metadata": {},
   "outputs": [
    {
     "name": "stdout",
     "output_type": "stream",
     "text": [
      "Jack     92.0\n",
      "Marry    92.0\n",
      "Tom      89.0\n",
      "Zack     65.0\n",
      "Name: 作业一, dtype: float64\n"
     ]
    }
   ],
   "source": [
    "# 数组方式创建\n",
    "dictionary = {'Jack':92,'Marry':92,'Tom':89,'Zack':65}\n",
    "\n",
    "s = pd.Series(list(dictionary.values()),index=list(dictionary.keys()),dtype=np.float64,name='作业一')\n",
    "print(s)"
   ]
  },
  {
   "cell_type": "code",
   "execution_count": null,
   "metadata": {},
   "outputs": [],
   "source": [
    "'''\n",
    "【课程2.3】  Pandas数据结构Series：基本技巧\n",
    "\n",
    "数据查看 / 重新索引 / 对齐 / 添加、修改、删除值\n",
    "\n",
    "'''"
   ]
  },
  {
   "cell_type": "code",
   "execution_count": 20,
   "metadata": {},
   "outputs": [
    {
     "name": "stdout",
     "output_type": "stream",
     "text": [
      "0    0.658717\n",
      "1    0.446246\n",
      "2    0.779948\n",
      "dtype: float64\n",
      "10    0.387464\n",
      "11    0.000036\n",
      "12    0.877476\n",
      "13    0.068350\n",
      "14    0.151361\n",
      "dtype: float64\n"
     ]
    }
   ],
   "source": [
    "# 数据查看\n",
    "\n",
    "s = pd.Series(np.random.rand(15))\n",
    "print(s.head(3)) # 查看头n条 默认显示5条\n",
    "print(s.tail()) # 查看尾n条 默认显示5条"
   ]
  },
  {
   "cell_type": "code",
   "execution_count": 22,
   "metadata": {},
   "outputs": [
    {
     "name": "stdout",
     "output_type": "stream",
     "text": [
      "a    0.650794\n",
      "b    0.892547\n",
      "c    0.709360\n",
      "d    0.097026\n",
      "e    0.547834\n",
      "dtype: float64\n",
      "----------\n",
      "a    0.650794\n",
      "b    0.892547\n",
      "c    0.709360\n",
      "d    0.097026\n",
      "e    0.547834\n",
      "dtype: float64\n",
      "b    0.892547\n",
      "d    0.097026\n",
      "c    0.709360\n",
      "f         NaN\n",
      "dtype: float64\n",
      "b    0.892547\n",
      "d    0.097026\n",
      "e    0.547834\n",
      "f    0.000000\n",
      "dtype: float64\n"
     ]
    }
   ],
   "source": [
    "# 重新索引reindex\n",
    "# .reindex将会根据索引重新排序，如果当前索引不存在，则引入缺失值\n",
    "\n",
    "s = pd.Series(np.random.rand(5),index=list('abcde'))\n",
    "print(s)\n",
    "print('----------')\n",
    "\n",
    "s1 = s.reindex(index=list('bdcf'))\n",
    "print(s)\n",
    "print(s1)\n",
    "print(s.reindex(index=list('bdef'),fill_value = 0)) # 对于找不到的索引，会使用0来填充\n"
   ]
  },
  {
   "cell_type": "code",
   "execution_count": 23,
   "metadata": {},
   "outputs": [
    {
     "name": "stdout",
     "output_type": "stream",
     "text": [
      "Jack     0.970366\n",
      "Marry    0.105214\n",
      "Tom      0.609774\n",
      "dtype: float64\n",
      "Wang     0.959125\n",
      "Jack     0.205666\n",
      "Marry    0.892832\n",
      "dtype: float64\n",
      "Jack     1.176031\n",
      "Marry    0.998046\n",
      "Tom           NaN\n",
      "Wang          NaN\n",
      "dtype: float64\n"
     ]
    }
   ],
   "source": [
    "# Series对齐  自动将名称相同的索引对齐，并进行相应的运算\n",
    "\n",
    "s1 = pd.Series(np.random.rand(3), index = ['Jack','Marry','Tom'])\n",
    "s2 = pd.Series(np.random.rand(3), index = ['Wang','Jack','Marry'])\n",
    "print(s1)\n",
    "print(s2)\n",
    "print(s1+s2)\n",
    "# Series 和 ndarray 之间的主要区别是，Series 上的操作会根据标签自动对齐\n",
    "# index顺序不会影响数值计算，以标签来计算\n",
    "# 空值和任何值计算结果扔为空值"
   ]
  },
  {
   "cell_type": "code",
   "execution_count": 24,
   "metadata": {},
   "outputs": [
    {
     "name": "stdout",
     "output_type": "stream",
     "text": [
      "n    0.360458\n",
      "g    0.068896\n",
      "j    0.217887\n",
      "u    0.486113\n",
      "r    0.475699\n",
      "dtype: float64\n",
      "g    0.068896\n",
      "j    0.217887\n",
      "u    0.486113\n",
      "r    0.475699\n",
      "dtype: float64\n",
      "n    0.360458\n",
      "u    0.486113\n",
      "r    0.475699\n",
      "dtype: float64\n",
      "n    0.360458\n",
      "g    0.068896\n",
      "j    0.217887\n",
      "u    0.486113\n",
      "r    0.475699\n",
      "dtype: float64\n"
     ]
    }
   ],
   "source": [
    "# 删除：.drop\n",
    "\n",
    "s = pd.Series(np.random.rand(5), index = list('ngjur'))\n",
    "print(s)\n",
    "s1 = s.drop('n')\n",
    "s2 = s.drop(['g','j'])\n",
    "print(s1)\n",
    "print(s2)\n",
    "print(s)\n",
    "# drop 删除元素之后返回副本(inplace=False)，如果是（inplace=False）就会在原数据上更改"
   ]
  },
  {
   "cell_type": "code",
   "execution_count": 25,
   "metadata": {},
   "outputs": [
    {
     "name": "stdout",
     "output_type": "stream",
     "text": [
      "0    0.539677\n",
      "1    0.807219\n",
      "2    0.816236\n",
      "3    0.867660\n",
      "4    0.101201\n",
      "dtype: float64\n",
      "n    0.176133\n",
      "g    0.786885\n",
      "j    0.572897\n",
      "u    0.506762\n",
      "r    0.812056\n",
      "dtype: float64\n",
      "0      0.539677\n",
      "1      0.807219\n",
      "2      0.816236\n",
      "3      0.867660\n",
      "4      0.101201\n",
      "5    100.000000\n",
      "dtype: float64\n",
      "n      0.176133\n",
      "g      0.786885\n",
      "j      0.572897\n",
      "u      0.506762\n",
      "r      0.812056\n",
      "a    100.000000\n",
      "dtype: float64\n",
      "-----\n",
      "0      0.539677\n",
      "1      0.807219\n",
      "2      0.816236\n",
      "3      0.867660\n",
      "4      0.101201\n",
      "5    100.000000\n",
      "n      0.176133\n",
      "g      0.786885\n",
      "j      0.572897\n",
      "u      0.506762\n",
      "r      0.812056\n",
      "a    100.000000\n",
      "dtype: float64\n",
      "0      0.539677\n",
      "1      0.807219\n",
      "2      0.816236\n",
      "3      0.867660\n",
      "4      0.101201\n",
      "5    100.000000\n",
      "dtype: float64\n"
     ]
    }
   ],
   "source": [
    "# 添加\n",
    "\n",
    "s1 = pd.Series(np.random.rand(5))\n",
    "s2 = pd.Series(np.random.rand(5), index = list('ngjur'))\n",
    "print(s1)\n",
    "print(s2)\n",
    "s1[5] = 100\n",
    "s2['a'] = 100\n",
    "print(s1)\n",
    "print(s2)\n",
    "print('-----')\n",
    "# 直接通过下标索引/标签index添加值\n",
    "\n",
    "s3 = s1.append(s2)\n",
    "print(s3)\n",
    "print(s1)\n",
    "# 通过.append方法，直接添加一个数组\n",
    "# .append方法生成一个新的数组，不改变之前的数组"
   ]
  },
  {
   "cell_type": "markdown",
   "metadata": {},
   "source": [
    "###### 课堂作业 ######"
   ]
  },
  {
   "cell_type": "code",
   "execution_count": 33,
   "metadata": {},
   "outputs": [
    {
     "name": "stdout",
     "output_type": "stream",
     "text": [
      "创建series:\n",
      "a    0\n",
      "b    1\n",
      "c    2\n",
      "d    3\n",
      "e    4\n",
      "f    5\n",
      "g    6\n",
      "h    7\n",
      "i    8\n",
      "j    9\n",
      "dtype: int32\n",
      "-------\n",
      "修改后:\n",
      "a      0\n",
      "c      2\n",
      "d      3\n",
      "e    100\n",
      "f    100\n",
      "g      6\n",
      "h      7\n",
      "i      8\n",
      "j      9\n",
      "dtype: int32\n"
     ]
    }
   ],
   "source": [
    "\n",
    "s = pd.Series(np.arange(10),index=list('abcdefghij'),dtype=np.int32)\n",
    "print('创建series:')\n",
    "print(s)\n",
    "print('-------')\n",
    "print('修改后:')\n",
    "s1 = s.reindex(index=list('acdefghij'))\n",
    "# s1 = s.drop('b') # 也可以直接删除 \n",
    "# s.drop('b',inplace=True)\n",
    "s1['e'] = 100\n",
    "s1['f'] = 100\n",
    "print(s1)"
   ]
  },
  {
   "cell_type": "code",
   "execution_count": null,
   "metadata": {},
   "outputs": [],
   "source": [
    "'''\n",
    "【课程2.4】  Pandas数据结构Series：索引\n",
    "\n",
    "位置下标 / 标签索引 / 切片索引 / 布尔型索引\n",
    "\n",
    "'''"
   ]
  },
  {
   "cell_type": "code",
   "execution_count": 35,
   "metadata": {},
   "outputs": [
    {
     "name": "stdout",
     "output_type": "stream",
     "text": [
      "0    0.669082\n",
      "1    0.026808\n",
      "2    0.609000\n",
      "3    0.883043\n",
      "4    0.764092\n",
      "dtype: float64\n",
      "0.6690815408230547 <class 'numpy.float64'> float64\n",
      "0.6690815408230547 <class 'float'>\n"
     ]
    }
   ],
   "source": [
    "# 位置下标，类似序列\n",
    "\n",
    "s = pd.Series(np.random.rand(5))\n",
    "print(s)\n",
    "print(s[0],type(s[0]),s[0].dtype)\n",
    "print(float(s[0]),type(float(s[0])))\n",
    "#print(s[-1])\n",
    "# 位置下标从0开始\n",
    "# 输出结果为numpy.float格式，\n",
    "# 可以通过float()函数转换为python float格式\n",
    "# numpy.float与float占用字节不同\n",
    "# s[-1]结果如何？  报错，与列表的操作并不完全相同，下标-1做索引报错，但是-1做切片是可以的"
   ]
  },
  {
   "cell_type": "code",
   "execution_count": 36,
   "metadata": {},
   "outputs": [
    {
     "name": "stdout",
     "output_type": "stream",
     "text": [
      "a    0.106570\n",
      "b    0.804462\n",
      "c    0.824573\n",
      "d    0.972822\n",
      "e    0.147719\n",
      "dtype: float64\n",
      "0.10656950971706569 <class 'numpy.float64'> float64\n",
      "a    0.106570\n",
      "b    0.804462\n",
      "e    0.147719\n",
      "dtype: float64 <class 'pandas.core.series.Series'>\n"
     ]
    }
   ],
   "source": [
    "# 标签索引\n",
    "\n",
    "s = pd.Series(np.random.rand(5), index = ['a','b','c','d','e'])\n",
    "print(s)\n",
    "print(s['a'],type(s['a']),s['a'].dtype)\n",
    "# 方法类似下标索引，用[]表示，内写上index，注意index是字符串\n",
    "\n",
    "sci = s[['a','b','e']] # 返回的是一个新的Series\n",
    "print(sci,type(sci))\n",
    "# 如果需要选择多个标签的值，用[[]]来表示（相当于[]中包含一个列表）\n",
    "# 多标签索引结果是新的数组！！！！！！"
   ]
  },
  {
   "cell_type": "code",
   "execution_count": 37,
   "metadata": {},
   "outputs": [
    {
     "name": "stdout",
     "output_type": "stream",
     "text": [
      "1    0.489538\n",
      "2    0.272762\n",
      "3    0.732089\n",
      "dtype: float64 0.17599774297103532\n",
      "a    0.737894\n",
      "b    0.527086\n",
      "c    0.568121\n",
      "dtype: float64 0.5681207964616851\n",
      "a    0.737894\n",
      "b    0.527086\n",
      "c    0.568121\n",
      "dtype: float64 0.7325959705989727\n",
      "-----\n",
      "a    0.737894\n",
      "b    0.527086\n",
      "c    0.568121\n",
      "d    0.732596\n",
      "dtype: float64\n",
      "a    0.737894\n",
      "c    0.568121\n",
      "e    0.540423\n",
      "dtype: float64\n"
     ]
    }
   ],
   "source": [
    "# 切片索引\n",
    "\n",
    "s1 = pd.Series(np.random.rand(5))\n",
    "s2 = pd.Series(np.random.rand(5), index = ['a','b','c','d','e'])\n",
    "print(s1[1:4],s1[4])    # 【1，4） 末端不包含\n",
    "print(s2['a':'c'],s2['c'])  #['a','c'] 末端包含\n",
    "print(s2[0:3],s2[3])\n",
    "print('-----')\n",
    "# 注意：用index做切片是末端包含\n",
    "# 需要注意的是，如果index是默认的1,2,3......，那么默认是以下标形式切片的，所以推荐加上索引\n",
    "\n",
    "print(s2[:-1])\n",
    "print(s2[::2])\n",
    "# 下标索引做切片，和list写法一样"
   ]
  },
  {
   "cell_type": "code",
   "execution_count": 38,
   "metadata": {
    "scrolled": false
   },
   "outputs": [
    {
     "name": "stdout",
     "output_type": "stream",
     "text": [
      "0    29.382354\n",
      "1    76.100793\n",
      "2    42.179288\n",
      "dtype: float64\n",
      "0    False\n",
      "1     True\n",
      "2    False\n",
      "dtype: bool <class 'pandas.core.series.Series'> bool\n",
      "0    False\n",
      "1    False\n",
      "2    False\n",
      "dtype: bool <class 'pandas.core.series.Series'> bool\n",
      "0    True\n",
      "1    True\n",
      "2    True\n",
      "dtype: bool <class 'pandas.core.series.Series'> bool\n",
      "-----\n",
      "1    76.100793\n",
      "dtype: float64\n",
      "0    29.382354\n",
      "1    76.100793\n",
      "2    42.179288\n",
      "dtype: float64\n"
     ]
    }
   ],
   "source": [
    "# 布尔型索引\n",
    "\n",
    "s = pd.Series(np.random.rand(3)*100)\n",
    "# s[4] = None  # 添加一个空值\n",
    "# s[5] = np.NAN # 也可以这样添加空值\n",
    "\n",
    "print(s)\n",
    "bs1 = s > 50\n",
    "bs2 = s.isnull()\n",
    "bs3 = s.notnull()\n",
    "print(bs1, type(bs1), bs1.dtype)\n",
    "print(bs2, type(bs2), bs2.dtype)\n",
    "print(bs3, type(bs3), bs3.dtype)\n",
    "print('-----')\n",
    "# 数组做判断之后，返回的是一个由布尔值组成的新的数组\n",
    "# .isnull() / .notnull() 判断是否为空值 (None代表空值，NaN代表有问题的数值，两个都会识别为空值)\n",
    "\n",
    "print(s[s > 50])\n",
    "print(s[bs3])\n",
    "# 布尔型索引方法：用[判断条件]表示，其中判断条件可以是 一个语句，或者是 一个布尔型数组！"
   ]
  },
  {
   "cell_type": "markdown",
   "metadata": {},
   "source": [
    "###### 课堂作业 ######"
   ]
  },
  {
   "cell_type": "code",
   "execution_count": 42,
   "metadata": {},
   "outputs": [
    {
     "name": "stdout",
     "output_type": "stream",
     "text": [
      "a    86.207480\n",
      "b    47.007835\n",
      "c    38.695491\n",
      "d    15.130944\n",
      "e    13.137920\n",
      "f    15.688881\n",
      "g    92.948870\n",
      "h    81.823954\n",
      "i    85.160048\n",
      "j    69.286039\n",
      "dtype: float64\n",
      "------\n",
      "b    47.007835\n",
      "c    38.695491\n",
      "dtype: float64\n",
      "------\n",
      "d    15.130944\n",
      "e    13.137920\n",
      "f    15.688881\n",
      "dtype: float64\n",
      "------\n",
      "a    86.207480\n",
      "g    92.948870\n",
      "h    81.823954\n",
      "i    85.160048\n",
      "j    69.286039\n",
      "dtype: float64\n"
     ]
    }
   ],
   "source": [
    "s = pd.Series(np.random.rand(10)*100,index=list([chr(i) for i in range(97,107)]))\n",
    "\n",
    "print(s)\n",
    "print('------')\n",
    "print(s[['b','c']])\n",
    "print('------')\n",
    "# print(s[4:7])\n",
    "print(s['d':'f'])\n",
    "print('------')\n",
    "print(s[s>50])"
   ]
  },
  {
   "cell_type": "code",
   "execution_count": null,
   "metadata": {},
   "outputs": [],
   "source": [
    "'''\n",
    "【课程2.5】  Pandas数据结构Dataframe：基本概念及创建\n",
    "\n",
    "\"二维数组\"Dataframe：是一个表格型的数据结构，包含一组有序的列，其列的值类型可以是数值、字符串、布尔值等。\n",
    "\n",
    "Dataframe中的数据以一个或多个二维块存放，不是列表、字典或一维数组结构。\n",
    "\n",
    "'''"
   ]
  },
  {
   "cell_type": "code",
   "execution_count": 43,
   "metadata": {},
   "outputs": [
    {
     "name": "stdout",
     "output_type": "stream",
     "text": [
      "   name  age gender\n",
      "0  Jack   18      m\n",
      "1   Tom   19      m\n",
      "2  Mary   20      w\n",
      "<class 'pandas.core.frame.DataFrame'>\n",
      "RangeIndex(start=0, stop=3, step=1) 该数据类型为： <class 'pandas.core.indexes.range.RangeIndex'>\n",
      "Index(['name', 'age', 'gender'], dtype='object') 该数据类型为： <class 'pandas.core.indexes.base.Index'>\n",
      "[['Jack' 18 'm']\n",
      " ['Tom' 19 'm']\n",
      " ['Mary' 20 'w']] 该数据类型为： <class 'numpy.ndarray'>\n"
     ]
    }
   ],
   "source": [
    "# Dataframe 数据结构  其实可以看成一个excel表格\n",
    "# Dataframe是一个表格型的数据结构，“带有标签的二维数组”。\n",
    "# Dataframe带有index（行标签）和columns（列标签）\n",
    "\n",
    "data = {'name':['Jack','Tom','Mary'],\n",
    "        'age':[18,19,20],\n",
    "       'gender':['m','m','w']}\n",
    "frame = pd.DataFrame(data)\n",
    "print(frame)  \n",
    "print(type(frame))\n",
    "print(frame.index,'该数据类型为：',type(frame.index))\n",
    "print(frame.columns,'该数据类型为：',type(frame.columns)) # 注意：字段名其实也是一个Index\n",
    "print(frame.values,'该数据类型为：',type(frame.values))\n",
    "# 查看数据，数据类型为dataframe\n",
    "# .index查看行标签\n",
    "# .columns查看列标签\n",
    "# .values查看值，数据类型为ndarray"
   ]
  },
  {
   "cell_type": "code",
   "execution_count": 5,
   "metadata": {},
   "outputs": [
    {
     "name": "stdout",
     "output_type": "stream",
     "text": [
      "{'a': [1, 2, 3], 'b': [3, 4, 5], 'c': [5, 6, 7]}\n",
      "{'one': array([0.95067378, 0.49663747, 0.91243946]), 'two': array([0.77852305, 0.46251614, 0.16788786])}\n",
      "   a  b  c\n",
      "0  1  3  5\n",
      "1  2  4  6\n",
      "2  3  5  7\n",
      "        one       two\n",
      "0  0.950674  0.778523\n",
      "1  0.496637  0.462516\n",
      "2  0.912439  0.167888\n",
      "   b  c  a    d\n",
      "0  3  5  1  NaN\n",
      "1  4  6  2  NaN\n",
      "2  5  7  3  NaN\n",
      "   b  c\n",
      "0  3  5\n",
      "1  4  6\n",
      "2  5  7\n",
      "         one       two\n",
      "f1  0.950674  0.778523\n",
      "f2  0.496637  0.462516\n",
      "f3  0.912439  0.167888\n"
     ]
    }
   ],
   "source": [
    "# Dataframe 创建方法一：由数组/list组成的字典\n",
    "# 创建方法:pandas.Dataframe()\n",
    "\n",
    "data1 = {'a':[1,2,3],\n",
    "        'b':[3,4,5],\n",
    "        'c':[5,6,7]}\n",
    "data2 = {'one':np.random.rand(3),\n",
    "        'two':np.random.rand(3)}   # 这里如果尝试  'two':np.random.rand(4) 会怎么样？ 会报错\n",
    "print(data1)\n",
    "print(data2)\n",
    "df1 = pd.DataFrame(data1)\n",
    "df2 = pd.DataFrame(data2)\n",
    "print(df1)\n",
    "print(df2)\n",
    "# 由数组/list组成的字典 创建Dataframe，columns为字典key，index为默认数字标签\n",
    "# 字典的值的长度必须保持一致！\n",
    "\n",
    "df1 = pd.DataFrame(data1, columns = ['b','c','a','d'])  # 这里的用法和reindex类似，如果有则重新排序，没有就默认为Nan\n",
    "print(df1)\n",
    "df1 = pd.DataFrame(data1, columns = ['b','c'])\n",
    "print(df1)\n",
    "# columns参数：可以重新指定列的顺序，格式为list，如果现有数据中没有该列（比如'd'），则产生NaN值\n",
    "# 如果columns重新指定时候，列的数量可以少于原数据\n",
    "\n",
    "df2 = pd.DataFrame(data2, index = ['f1','f2','f3'])  # 这里如果尝试  index = ['f1','f2','f3','f4'] 会怎么样？ 会报错，因此Shape必须一致\n",
    "print(df2)\n",
    "# index参数：重新定义index，格式为list，长度必须保持一致"
   ]
  },
  {
   "cell_type": "code",
   "execution_count": 6,
   "metadata": {},
   "outputs": [
    {
     "name": "stdout",
     "output_type": "stream",
     "text": [
      "{'one': 0    0.379779\n",
      "1    0.756374\n",
      "dtype: float64, 'two': 0    0.363515\n",
      "1    0.557073\n",
      "2    0.095631\n",
      "dtype: float64}\n",
      "{'one': a    0.565477\n",
      "b    0.476197\n",
      "dtype: float64, 'two': a    0.654894\n",
      "b    0.898691\n",
      "c    0.513671\n",
      "dtype: float64}\n",
      "        one       two\n",
      "0  0.379779  0.363515\n",
      "1  0.756374  0.557073\n",
      "2       NaN  0.095631\n",
      "        one       two\n",
      "a  0.565477  0.654894\n",
      "b  0.476197  0.898691\n",
      "c       NaN  0.513671\n"
     ]
    }
   ],
   "source": [
    "# Dataframe 创建方法二：由Series组成的字典\n",
    "\n",
    "data1 = {'one':pd.Series(np.random.rand(2)),\n",
    "        'two':pd.Series(np.random.rand(3))}  # 没有设置index的Series\n",
    "data2 = {'one':pd.Series(np.random.rand(2), index = ['a','b']),\n",
    "        'two':pd.Series(np.random.rand(3),index = ['a','b','c'])}  # 设置了index的Series 和数组不同，series可以行数不一样\n",
    "print(data1)\n",
    "print(data2)\n",
    "df1 = pd.DataFrame(data1)  \n",
    "df2 = pd.DataFrame(data2)  # 会默认将Series中相同index的列，对齐\n",
    "print(df1)\n",
    "print(df2) \n",
    "# 由Seris组成的字典 创建Dataframe，columns为字典key，index为Series的标签（如果Series没有指定标签，则是默认数字标签）\n",
    "# Series可以长度不一样，生成的Dataframe会出现NaN值！！！！！！"
   ]
  },
  {
   "cell_type": "code",
   "execution_count": 7,
   "metadata": {},
   "outputs": [
    {
     "name": "stdout",
     "output_type": "stream",
     "text": [
      "[[0.0483642  0.66503315 0.98202803]\n",
      " [0.30064878 0.51297485 0.00827587]\n",
      " [0.01321322 0.08634642 0.58617837]]\n",
      "          0         1         2\n",
      "0  0.048364  0.665033  0.982028\n",
      "1  0.300649  0.512975  0.008276\n",
      "2  0.013213  0.086346  0.586178\n",
      "        one       two     three\n",
      "a  0.048364  0.665033  0.982028\n",
      "b  0.300649  0.512975  0.008276\n",
      "c  0.013213  0.086346  0.586178\n"
     ]
    }
   ],
   "source": [
    "# Dataframe 创建方法三：通过二维数组直接创建\n",
    "\n",
    "ar = np.random.rand(9).reshape(3,3)\n",
    "print(ar)\n",
    "df1 = pd.DataFrame(ar)\n",
    "df2 = pd.DataFrame(ar, index = ['a', 'b', 'c'], columns = ['one','two','three'])  # 可以尝试一下index或columns长度不等于已有数组的情况\n",
    "print(df1)\n",
    "print(df2)\n",
    "# 通过二维数组直接创建Dataframe，得到一样形状的结果数据，如果不指定index和columns，两者均返回默认数字格式\n",
    "# index和colunms指定长度与原数组保持一致"
   ]
  },
  {
   "cell_type": "code",
   "execution_count": 8,
   "metadata": {},
   "outputs": [
    {
     "name": "stdout",
     "output_type": "stream",
     "text": [
      "[{'one': 1, 'two': 2}, {'one': 5, 'two': 10, 'three': 20}]\n",
      "   one  three  two\n",
      "0    1    NaN    2\n",
      "1    5   20.0   10\n",
      "   one  three  two\n",
      "a    1    NaN    2\n",
      "b    5   20.0   10\n",
      "   one  two\n",
      "0    1    2\n",
      "1    5   10\n"
     ]
    }
   ],
   "source": [
    "# Dataframe 创建方法四：由字典组成的列表\n",
    "\n",
    "data = [{'one': 1, 'two': 2}, {'one': 5, 'two': 10, 'three': 20}]\n",
    "print(data)\n",
    "df1 = pd.DataFrame(data)\n",
    "df2 = pd.DataFrame(data, index = ['a','b'])\n",
    "df3 = pd.DataFrame(data, columns = ['one','two'])\n",
    "print(df1)\n",
    "print(df2)\n",
    "print(df3)\n",
    "# 由字典组成的列表创建Dataframe，columns为字典的key，index不做指定则为默认数组标签\n",
    "# colunms和index参数分别重新指定相应列及行标签"
   ]
  },
  {
   "cell_type": "code",
   "execution_count": 9,
   "metadata": {},
   "outputs": [
    {
     "name": "stdout",
     "output_type": "stream",
     "text": [
      "         Jack  Marry   Tom\n",
      "art        78     92   NaN\n",
      "english    89     95  67.0\n",
      "math       90     82  78.0\n",
      "         Jack   Tom  Bob\n",
      "art        78   NaN  NaN\n",
      "english    89  67.0  NaN\n",
      "math       90  78.0  NaN\n",
      "   Jack  Marry  Tom\n",
      "a   NaN    NaN  NaN\n",
      "b   NaN    NaN  NaN\n",
      "c   NaN    NaN  NaN\n"
     ]
    }
   ],
   "source": [
    "# Dataframe 创建方法五：由字典组成的字典\n",
    "\n",
    "data = {'Jack':{'math':90,'english':89,'art':78},\n",
    "       'Marry':{'math':82,'english':95,'art':92},\n",
    "       'Tom':{'math':78,'english':67}}\n",
    "df1 = pd.DataFrame(data)\n",
    "print(df1)\n",
    "# 由字典组成的字典创建Dataframe，columns为字典的key，index为子字典的key\n",
    "\n",
    "df2 = pd.DataFrame(data, columns = ['Jack','Tom','Bob'])\n",
    "df3 = pd.DataFrame(data, index = ['a','b','c'])\n",
    "print(df2)\n",
    "print(df3)\n",
    "# columns参数可以增加和减少现有列，如出现新的列，值为NaN\n",
    "# index在这里和之前不同，并不能改变原有index，如果指向新的标签，值为NaN （非常重要！）"
   ]
  },
  {
   "cell_type": "code",
   "execution_count": null,
   "metadata": {},
   "outputs": [],
   "source": [
    "###### 总结\n",
    "\n",
    "# Dataframe 创建方法一：由数组/list组成的字典\n",
    "# 创建方法:pandas.Dataframe()\n",
    "\n",
    "data1 = {'a':[1,2,3],\n",
    "        'b':[3,4,5],\n",
    "        'c':[5,6,7]}  # index个数必须相同，默认为数字  colums为a,b,c\n",
    "\n",
    "# Dataframe 创建方法二：由Series组成的字典\n",
    "\n",
    "data1 = {'one':pd.Series(np.random.rand(2)),\n",
    "        'two':pd.Series(np.random.rand(3))}  # 没有设置index的Series index默认为数字，个数可以不同,colums 为one,two\n",
    "\n",
    "# Dataframe 创建方法三：通过二维数组直接创建\n",
    "\n",
    "ar = np.random.rand(9).reshape(3,3)  # 先指定形状，再设置 index columns\n",
    "df2 = pd.DataFrame(ar, index = ['a', 'b', 'c'], columns = ['one','two','three'])  # 可以尝试一下index或columns长度不等于已有数组的情况\n",
    "\n",
    "# Dataframe 创建方法四：由字典组成的列表 ,一个字典代表一行数据\n",
    "\n",
    "data = [{'one': 1, 'two': 2}, {'one': 5, 'two': 10, 'three': 20}]  # index为数字，columns为one two three\n",
    "\n",
    "# Dataframe 创建方法五：由字典组成的字典\n",
    "\n",
    "data = {'Jack':{'math':90,'english':89,'art':78},\n",
    "       'Marry':{'math':82,'english':95,'art':92},\n",
    "       'Tom':{'math':78,'english':67}}     # index 为math english art ,columns为Jack Marry Tom\n",
    "# columns参数可以增加和减少现有列，如出现新的列，值为NaN\n",
    "# index在这里和之前不同，并不能改变原有index，如果指向新的标签，值为NaN （非常重要！）\n"
   ]
  },
  {
   "cell_type": "code",
   "execution_count": null,
   "metadata": {},
   "outputs": [],
   "source": [
    "##### 课后作业 #####"
   ]
  },
  {
   "cell_type": "code",
   "execution_count": 21,
   "metadata": {},
   "outputs": [
    {
     "name": "stdout",
     "output_type": "stream",
     "text": [
      "   one  two  three  four  five\n",
      "a    1    2      3     4     5\n",
      "b    2    3      4     5     6\n",
      "c    3    4      5     6     7\n",
      "d    4    5      6     7     8\n",
      "e    5    6      7     8     9\n",
      "   one  two  three  four  five\n",
      "a    1    2      3     4     5\n",
      "b    2    3      4     5     6\n",
      "c    3    4      5     6     7\n",
      "d    4    5      6     7     8\n",
      "e    5    6      7     8     9\n",
      "   one  two  three  four  five\n",
      "a    1    2      3     4     5\n",
      "b    2    3      4     5     6\n",
      "c    3    4      5     6     7\n",
      "d    4    5      6     7     8\n",
      "e    5    6      7     8     9\n",
      "   one  two  three  four  five\n",
      "a    1    2      3     4     5\n",
      "b    2    3      4     5     6\n",
      "c    3    4      5     6     7\n",
      "d    4    5      6     7     8\n",
      "e    5    6      7     8     9\n"
     ]
    }
   ],
   "source": [
    "data = {'one':[1,2,3,4,5],\n",
    "        'two':[2,3,4,5,6],\n",
    "        'three':[3,4,5,6,7],\n",
    "       'four':[4,5,6,7,8],\n",
    "       'five':[5,6,7,8,9]}\n",
    "\n",
    "df = pd.DataFrame(data,index=list('abcde'))\n",
    "print(df)\n",
    "\n",
    "data = {'one':np.arange(1,6).astype(np.int32),\n",
    "        'two':np.arange(2,7,dtype=np.int32),\n",
    "        'three':np.arange(3,8,dtype=np.int32),\n",
    "       'four':np.arange(4,9,dtype=np.int32),\n",
    "       'five':np.arange(5,10,dtype=np.int32)}\n",
    "\n",
    "df = pd.DataFrame(data,index=list('abcde'))\n",
    "print(df)\n",
    "\n",
    "data = np.arange(1,6)\n",
    "for i in range(2,6):\n",
    "    arr = np.arange(i,i+5)\n",
    "    data = np.vstack((data,arr))\n",
    "\n",
    "df = pd.DataFrame(data,index=list('abcde'),columns=['one','two','three','four','five'])\n",
    "print(df)\n",
    "\n",
    "data = []\n",
    "for i in range(1,6):\n",
    "    raw = {}\n",
    "    raw['one'] = i\n",
    "    raw['two'] = i+1\n",
    "    raw['three'] = i+2\n",
    "    raw['four'] = i+3\n",
    "    raw['five'] = i+4\n",
    "    data.append(raw)\n",
    "    \n",
    "df = pd.DataFrame(data,index=list('abcde'),columns=['one','two','three','four','five'])\n",
    "print(df)"
   ]
  },
  {
   "cell_type": "code",
   "execution_count": null,
   "metadata": {},
   "outputs": [],
   "source": [
    "'''\n",
    "【课程2.6】  Pandas数据结构Dataframe：索引\n",
    "\n",
    "Dataframe既有行索引也有列索引，可以被看做由Series组成的字典（共用一个索引）\n",
    "\n",
    "选择列 / 选择行 / 切片 / 布尔判断\n",
    "\n",
    "'''"
   ]
  },
  {
   "cell_type": "code",
   "execution_count": 25,
   "metadata": {},
   "outputs": [
    {
     "name": "stdout",
     "output_type": "stream",
     "text": [
      "               a          b          c          d\n",
      "one    63.658051  61.219455  95.970986  58.796278\n",
      "two    51.466117  37.149830  65.926048  14.213535\n",
      "three  69.975003  80.048414  86.991389  56.791412\n",
      "one      63.658051\n",
      "two      51.466117\n",
      "three    69.975003\n",
      "Name: a, dtype: float64 <class 'pandas.core.series.Series'>\n",
      "               a          c\n",
      "one    63.658051  95.970986\n",
      "two    51.466117  65.926048\n",
      "three  69.975003  86.991389 <class 'pandas.core.frame.DataFrame'>\n",
      "-----\n",
      "               a          c\n",
      "one    63.658051  95.970986\n",
      "two    51.466117  65.926048\n",
      "three  69.975003  86.991389 <class 'pandas.core.series.Series'>\n",
      "a    63.658051\n",
      "b    61.219455\n",
      "c    95.970986\n",
      "d    58.796278\n",
      "Name: one, dtype: float64 <class 'pandas.core.frame.DataFrame'>\n"
     ]
    }
   ],
   "source": [
    "# 选择行与列\n",
    "\n",
    "df = pd.DataFrame(np.random.rand(12).reshape(3,4)*100,\n",
    "                   index = ['one','two','three'],\n",
    "                   columns = ['a','b','c','d'])\n",
    "print(df)\n",
    "\n",
    "data1 = df['a']\n",
    "data2 = df[['a','c']]\n",
    "print(data1,type(data1))\n",
    "print(data2,type(data2))\n",
    "print('-----')\n",
    "# 按照列名选择列，只选择一列输出Series，选择多列输出Dataframe\n",
    "\n",
    "data3 = df.loc['one']\n",
    "data4 = df.loc[['one','two']]\n",
    "print(data2,type(data3))\n",
    "print(data3,type(data4))\n",
    "# 按照index选择行，只选择一行输出Series，选择多行输出Dataframe"
   ]
  },
  {
   "cell_type": "code",
   "execution_count": 26,
   "metadata": {},
   "outputs": [
    {
     "name": "stdout",
     "output_type": "stream",
     "text": [
      "               a          b          c          d\n",
      "one    97.270936  71.105559  65.199722  70.490576\n",
      "two    25.521698  27.123590  79.141004  72.313144\n",
      "three  60.423873  74.037118  75.549528  43.943606\n",
      "-----\n",
      "one      97.270936\n",
      "two      25.521698\n",
      "three    60.423873\n",
      "Name: a, dtype: float64\n",
      "               b          c\n",
      "one    71.105559  65.199722\n",
      "two    27.123590  79.141004\n",
      "three  74.037118  75.549528\n",
      "             a          b          c          d\n",
      "one  97.270936  71.105559  65.199722  70.490576 <class 'pandas.core.frame.DataFrame'>\n"
     ]
    }
   ],
   "source": [
    "# df[] - 选择列\n",
    "# 一般用于选择列，也可以选择行\n",
    "\n",
    "df = pd.DataFrame(np.random.rand(12).reshape(3,4)*100,\n",
    "                   index = ['one','two','three'],\n",
    "                   columns = ['a','b','c','d'])\n",
    "print(df)\n",
    "print('-----')\n",
    "\n",
    "data1 = df['a']\n",
    "data2 = df[['b','c']]  # 尝试输入 data2 = df[['b','c','e']]\n",
    "print(data1)\n",
    "print(data2)\n",
    "# df[]默认选择列，[]中写列名（所以一般数据colunms都会单独制定，不会用默认数字列名，以免和index冲突）\n",
    "# 单选列为Series，print结果为Series格式\n",
    "# 多选列为Dataframe，print结果为Dataframe格式\n",
    "\n",
    "data3 = df[:1]\n",
    "#data3 = df[0]\n",
    "#data3 = df['one']\n",
    "print(data3,type(data3))\n",
    "# df[]中为数字时，默认选择行，且只能进行切片的选择，不能单独选择（df[0]）\n",
    "# 输出结果为Dataframe，即便只选择一行\n",
    "# df[]不能通过索引标签名来选择行(df['one'])\n",
    "\n",
    "# 核心笔记：df[col]一般用于选择列，[]中写列名\n",
    "# 选择一个为Series,多个为Dataframe"
   ]
  },
  {
   "cell_type": "code",
   "execution_count": 42,
   "metadata": {},
   "outputs": [
    {
     "name": "stdout",
     "output_type": "stream",
     "text": [
      "               a          b          c          d\n",
      "one    34.200299  97.300522  91.231261  24.340456\n",
      "two    51.042480  39.357641  22.455337  59.087299\n",
      "three  11.484544  61.092752  46.594442  40.344873\n",
      "four   71.231453  64.665933   8.626087   4.135545\n",
      "           a          b          c          d\n",
      "0  97.361671  26.151709  16.752567  99.514991\n",
      "1  25.585227  66.758317  73.043166  24.242259\n",
      "2  47.956365  50.873741  16.364481  66.536050\n",
      "3  13.925689  44.546587  54.799909  92.746187\n",
      "-----\n",
      "a    34.200299\n",
      "b    97.300522\n",
      "c    91.231261\n",
      "d    24.340456\n",
      "Name: one, dtype: float64\n",
      "a    25.585227\n",
      "b    66.758317\n",
      "c    73.043166\n",
      "d    24.242259\n",
      "Name: 1, dtype: float64\n",
      "单标签索引\n",
      "-----\n",
      "               a          b          c          d\n",
      "two    51.042480  39.357641  22.455337  59.087299\n",
      "three  11.484544  61.092752  46.594442  40.344873\n",
      "five         NaN        NaN        NaN        NaN\n",
      "           a          b          c          d\n",
      "3  13.925689  44.546587  54.799909  92.746187\n",
      "2  47.956365  50.873741  16.364481  66.536050\n",
      "1  25.585227  66.758317  73.043166  24.242259\n",
      "多标签索引\n",
      "-----\n",
      "               a          b          c          d\n",
      "one    34.200299  97.300522  91.231261  24.340456\n",
      "two    51.042480  39.357641  22.455337  59.087299\n",
      "three  11.484544  61.092752  46.594442  40.344873\n",
      "           a          b          c          d\n",
      "1  25.585227  66.758317  73.043166  24.242259\n",
      "2  47.956365  50.873741  16.364481  66.536050\n",
      "3  13.925689  44.546587  54.799909  92.746187\n",
      "切片索引\n"
     ]
    },
    {
     "name": "stderr",
     "output_type": "stream",
     "text": [
      "D:\\python\\Anaconda3\\lib\\site-packages\\ipykernel_launcher.py:19: FutureWarning: \n",
      "Passing list-likes to .loc or [] with any missing label will raise\n",
      "KeyError in the future, you can use .reindex() as an alternative.\n",
      "\n",
      "See the documentation here:\n",
      "https://pandas.pydata.org/pandas-docs/stable/indexing.html#deprecate-loc-reindex-listlike\n"
     ]
    }
   ],
   "source": [
    "# df.loc[] - 按index选择行\n",
    "\n",
    "df1 = pd.DataFrame(np.random.rand(16).reshape(4,4)*100,\n",
    "                   index = ['one','two','three','four'],\n",
    "                   columns = ['a','b','c','d'])\n",
    "df2 = pd.DataFrame(np.random.rand(16).reshape(4,4)*100,\n",
    "                   columns = ['a','b','c','d'])\n",
    "print(df1)\n",
    "print(df2)\n",
    "print('-----')\n",
    "\n",
    "data1 = df1.loc['one']\n",
    "data2 = df2.loc[1]\n",
    "print(data1)\n",
    "print(data2)\n",
    "print('单标签索引\\n-----')\n",
    "# 单个标签索引，返回Series\n",
    "\n",
    "data3 = df1.loc[['two','three','five']]\n",
    "data4 = df2.loc[[3,2,1]]\n",
    "print(data3)\n",
    "print(data4)\n",
    "print('多标签索引\\n-----')\n",
    "# 多个标签索引，如果标签不存在，则返回NaN\n",
    "# 顺序可变\n",
    "\n",
    "data5 = df1.loc['one':'three']\n",
    "data6 = df2.loc[1:3]\n",
    "print(data5)\n",
    "print(data6)\n",
    "print('切片索引')\n",
    "# 可以做切片对象\n",
    "# 末端包含!!!!!!\n",
    "\n",
    "# 核心笔记：df.loc[label]主要针对index选择行，同时支持指定index，及默认数字index\n",
    "# 选择一个为Series,多个为Dataframe"
   ]
  },
  {
   "cell_type": "code",
   "execution_count": 43,
   "metadata": {},
   "outputs": [
    {
     "name": "stdout",
     "output_type": "stream",
     "text": [
      "               a          b          c          d\n",
      "one    15.329859  18.333796  55.690386  80.674277\n",
      "two    45.645575  34.352875  73.265605  19.522695\n",
      "three  24.222764  51.737716   0.766872  95.886575\n",
      "four   28.882672  34.100851  77.533629   7.644694\n",
      "------\n",
      "a    15.329859\n",
      "b    18.333796\n",
      "c    55.690386\n",
      "d    80.674277\n",
      "Name: one, dtype: float64\n",
      "a    28.882672\n",
      "b    34.100851\n",
      "c    77.533629\n",
      "d     7.644694\n",
      "Name: four, dtype: float64\n",
      "单位置索引\n",
      "-----\n",
      "               a          b          c          d\n",
      "one    15.329859  18.333796  55.690386  80.674277\n",
      "three  24.222764  51.737716   0.766872  95.886575\n",
      "               a          b          c          d\n",
      "four   28.882672  34.100851  77.533629   7.644694\n",
      "three  24.222764  51.737716   0.766872  95.886575\n",
      "two    45.645575  34.352875  73.265605  19.522695\n",
      "多位置索引\n",
      "-----\n",
      "               a          b          c          d\n",
      "two    45.645575  34.352875  73.265605  19.522695\n",
      "three  24.222764  51.737716   0.766872  95.886575\n",
      "               a          b          c          d\n",
      "one    15.329859  18.333796  55.690386  80.674277\n",
      "three  24.222764  51.737716   0.766872  95.886575\n",
      "切片索引\n"
     ]
    }
   ],
   "source": [
    "# df.iloc[] - 按照整数位置（从轴的0到length-1）选择行\n",
    "# 类似list的索引，其顺序就是dataframe的整数位置，从0开始计\n",
    "\n",
    "df = pd.DataFrame(np.random.rand(16).reshape(4,4)*100,\n",
    "                   index = ['one','two','three','four'],\n",
    "                   columns = ['a','b','c','d'])\n",
    "print(df)\n",
    "print('------')\n",
    "\n",
    "print(df.iloc[0])\n",
    "print(df.iloc[-1])\n",
    "#print(df.iloc[4])\n",
    "print('单位置索引\\n-----')\n",
    "# 单位置索引\n",
    "# 和loc索引不同，不能索引超出数据行数的整数位置\n",
    "\n",
    "print(df.iloc[[0,2]])\n",
    "print(df.iloc[[3,2,1]])\n",
    "print('多位置索引\\n-----')\n",
    "# 多位置索引\n",
    "# 顺序可变\n",
    "\n",
    "print(df.iloc[1:3])\n",
    "print(df.iloc[::2])\n",
    "print('切片索引')\n",
    "# 切片索引\n",
    "# 末端不包含 !!!!!!!"
   ]
  },
  {
   "cell_type": "code",
   "execution_count": 41,
   "metadata": {},
   "outputs": [
    {
     "name": "stdout",
     "output_type": "stream",
     "text": [
      "               a          b          c          d\n",
      "one    71.684637  37.911621  35.274205  45.574088\n",
      "two     5.291718  53.618707  99.059019  42.536355\n",
      "three  59.062514  60.712185  46.012685  68.391096\n",
      "four   75.862519  45.377423  63.825425  21.287015\n",
      "------\n",
      "           a      b      c      d\n",
      "one    False  False  False  False\n",
      "two     True  False  False  False\n",
      "three  False  False  False  False\n",
      "four   False  False  False  False <class 'pandas.core.frame.DataFrame'>\n",
      "              a   b   c   d\n",
      "one         NaN NaN NaN NaN\n",
      "two    5.291718 NaN NaN NaN\n",
      "three       NaN NaN NaN NaN\n",
      "four        NaN NaN NaN NaN\n",
      "------\n",
      "one       True\n",
      "two      False\n",
      "three     True\n",
      "four      True\n",
      "Name: a, dtype: bool <class 'pandas.core.series.Series'>\n",
      "               a          b          c          d\n",
      "one    71.684637  37.911621  35.274205  45.574088\n",
      "three  59.062514  60.712185  46.012685  68.391096\n",
      "four   75.862519  45.377423  63.825425  21.287015\n",
      "------\n",
      "           a      b\n",
      "one     True  False\n",
      "two    False   True\n",
      "three   True   True\n",
      "four    True  False <class 'pandas.core.frame.DataFrame'>\n",
      "               a          b   c   d\n",
      "one    71.684637        NaN NaN NaN\n",
      "two          NaN  53.618707 NaN NaN\n",
      "three  59.062514  60.712185 NaN NaN\n",
      "four   75.862519        NaN NaN NaN\n",
      "------\n",
      "           a      b     c      d\n",
      "one    False   True  True   True\n",
      "three  False  False  True  False <class 'pandas.core.frame.DataFrame'>\n",
      "        a          b          c          d\n",
      "one   NaN  37.911621  35.274205  45.574088\n",
      "two   NaN        NaN        NaN        NaN\n",
      "three NaN        NaN  46.012685        NaN\n",
      "four  NaN        NaN        NaN        NaN\n",
      "------\n"
     ]
    }
   ],
   "source": [
    "# 布尔型索引\n",
    "# 和Series原理相同\n",
    "\n",
    "df = pd.DataFrame(np.random.rand(16).reshape(4,4)*100,\n",
    "                   index = ['one','two','three','four'],\n",
    "                   columns = ['a','b','c','d'])\n",
    "print(df)\n",
    "print('------')\n",
    "\n",
    "b1 = df < 20\n",
    "print(b1,type(b1))\n",
    "print(df[b1])  # 也可以书写为 df[df < 20]\n",
    "print('------')\n",
    "# 不做索引则会对数据每个值进行判断\n",
    "# 索引结果保留 所有数据：True返回原数据，False返回值为NaN\n",
    "\n",
    "b2 = df['a'] > 50\n",
    "print(b2,type(b2))\n",
    "print(df[b2])  # 也可以书写为 df[df['a'] > 50]\n",
    "print('------')\n",
    "# 单列做判断\n",
    "# 索引结果保留 单列判断为True的行数据，包括其他列\n",
    "\n",
    "b3 = df[['a','b']] > 50\n",
    "print(b3,type(b3))\n",
    "print(df[b3])  # 也可以书写为 df[df[['a','b']] > 50]\n",
    "print('------')\n",
    "# 多列做判断  and鏈接\n",
    "# 索引结果保留 所有数据：True返回原数据，False返回值为NaN\n",
    "\n",
    "b4 = df.loc[['one','three']] < 50\n",
    "print(b4,type(b4))\n",
    "print(df[b4])  # 也可以书写为 df[df.loc[['one','three']] < 50]\n",
    "print('------')\n",
    "# 多行做判断 and连接\n",
    "# 索引结果保留 所有数据：True返回原数据，False返回值为NaN"
   ]
  },
  {
   "cell_type": "code",
   "execution_count": 40,
   "metadata": {
    "scrolled": true
   },
   "outputs": [
    {
     "name": "stdout",
     "output_type": "stream",
     "text": [
      "               a          b          c          d\n",
      "one    56.875213   9.908319  62.699024  58.315170\n",
      "two    52.079981  33.619668   3.588995  20.659000\n",
      "three   0.246695  59.132116  20.443237  67.412348\n",
      "four   97.904774  46.142361   5.697341  13.133505\n",
      "------\n",
      "one      56.875213\n",
      "three     0.246695\n",
      "Name: a, dtype: float64\n",
      "               b          c          d\n",
      "one     9.908319  62.699024  58.315170\n",
      "three  59.132116  20.443237  67.412348\n",
      "              a          b          c          d\n",
      "three  0.246695  59.132116  20.443237  67.412348\n"
     ]
    }
   ],
   "source": [
    "# 多重索引：比如同时索引行和列\n",
    "# 先选择列再选择行 —— 相当于对于一个数据，先筛选字段，再选择数据量\n",
    "\n",
    "df = pd.DataFrame(np.random.rand(16).reshape(4,4)*100,\n",
    "                   index = ['one','two','three','four'],\n",
    "                   columns = ['a','b','c','d'])\n",
    "print(df)\n",
    "print('------')\n",
    "\n",
    "print(df['a'].loc[['one','three']])   # 选择a列的one，three行\n",
    "print(df[['b','c','d']].iloc[::2])   # 选择b，c，d列的one，three行\n",
    "print(df[df['a'] < 50].iloc[:2])   # 选择满足判断索引的前两行数据"
   ]
  },
  {
   "cell_type": "markdown",
   "metadata": {},
   "source": [
    "######## 课后作业  ########"
   ]
  },
  {
   "cell_type": "code",
   "execution_count": 47,
   "metadata": {},
   "outputs": [
    {
     "name": "stdout",
     "output_type": "stream",
     "text": [
      "               a          b          c          d\n",
      "one    16.708037  61.669559  93.579206  56.147879\n",
      "two    77.357731  53.615608  57.372610   8.899283\n",
      "three   3.172545  45.956448  52.441762  10.711575\n",
      "four   54.574644  83.767485  76.276766  10.062513\n",
      "               b          c\n",
      "one    61.669559  93.579206\n",
      "two    53.615608  57.372610\n",
      "three  45.956448  52.441762\n",
      "four   83.767485  76.276766\n",
      "               a          b          c          d\n",
      "three   3.172545  45.956448  52.441762  10.711575\n",
      "four   54.574644  83.767485  76.276766  10.062513\n",
      "             a          b          c          d\n",
      "one  16.708037  61.669559  93.579206  56.147879\n",
      "two  77.357731  53.615608  57.372610   8.899283\n",
      "               a          b          c          d\n",
      "one          NaN  61.669559  93.579206  56.147879\n",
      "two    77.357731  53.615608  57.372610        NaN\n",
      "three        NaN        NaN  52.441762        NaN\n",
      "four   54.574644  83.767485  76.276766        NaN\n"
     ]
    }
   ],
   "source": [
    "data = (np.random.rand(16)*100).reshape(4,4)\n",
    "df = pd.DataFrame(data,index=['one','two','three','four'],columns=list('abcd'))\n",
    "print(df)\n",
    "\n",
    "print(df[['b','c']])\n",
    "print(df.loc[['three','four']])\n",
    "print(df.iloc[:2])\n",
    "print(df[df>50])"
   ]
  },
  {
   "cell_type": "code",
   "execution_count": null,
   "metadata": {},
   "outputs": [],
   "source": [
    "'''\n",
    "【课程2.7】  Pandas数据结构Dataframe：基本技巧\n",
    "\n",
    "数据查看、转置 / 添加、修改、删除值 / 对齐 / 排序\n",
    "\n",
    "'''"
   ]
  },
  {
   "cell_type": "code",
   "execution_count": 48,
   "metadata": {},
   "outputs": [
    {
     "name": "stdout",
     "output_type": "stream",
     "text": [
      "           a          b\n",
      "0  22.193015  88.255882\n",
      "1  84.893487  96.155443\n",
      "           a          b\n",
      "3  37.605641  84.316712\n",
      "4  95.337196  99.352520\n",
      "5  53.815803  22.544153\n",
      "6  71.428959  71.459992\n",
      "7  64.036473  99.673388\n",
      "           0          1          2          3          4          5  \\\n",
      "a  22.193015  84.893487  71.382948  37.605641  95.337196  53.815803   \n",
      "b  88.255882  96.155443  39.672617  84.316712  99.352520  22.544153   \n",
      "\n",
      "           6          7  \n",
      "a  71.428959  64.036473  \n",
      "b  71.459992  99.673388  \n"
     ]
    }
   ],
   "source": [
    "# 数据查看、转置\n",
    "\n",
    "df = pd.DataFrame(np.random.rand(16).reshape(8,2)*100,\n",
    "                   columns = ['a','b'])\n",
    "print(df.head(2))\n",
    "print(df.tail())\n",
    "# .head()查看头部数据\n",
    "# .tail()查看尾部数据\n",
    "# 默认查看5条\n",
    "\n",
    "print(df.T)\n",
    "# .T 转置"
   ]
  },
  {
   "cell_type": "code",
   "execution_count": 49,
   "metadata": {},
   "outputs": [
    {
     "name": "stdout",
     "output_type": "stream",
     "text": [
      "           a          b          c          d\n",
      "0  33.445828  21.298638  11.622448  93.670966\n",
      "1  59.519157   9.834715  47.069324  33.137916\n",
      "2  41.723832  21.524908   4.367143  86.918814\n",
      "3  22.700945  26.289441  96.076336  43.490014\n",
      "           a          b          c          d   e\n",
      "0  33.445828  21.298638  11.622448  93.670966  10\n",
      "1  59.519157   9.834715  47.069324  33.137916  10\n",
      "2  41.723832  21.524908   4.367143  86.918814  10\n",
      "3  22.700945  26.289441  96.076336  43.490014  10\n",
      "4  20.000000  20.000000  20.000000  20.000000  20\n",
      "     a          b    c          d   e\n",
      "0  100  21.298638  100  93.670966  20\n",
      "1  100   9.834715  100  33.137916  20\n",
      "2  100  21.524908  100  86.918814  20\n",
      "3  100  26.289441  100  43.490014  20\n",
      "4  100  20.000000  100  20.000000  20\n"
     ]
    }
   ],
   "source": [
    "# 添加与修改\n",
    "\n",
    "df = pd.DataFrame(np.random.rand(16).reshape(4,4)*100,\n",
    "                   columns = ['a','b','c','d'])\n",
    "print(df)\n",
    "\n",
    "df['e'] = 10\n",
    "df.loc[4] = 20\n",
    "print(df)\n",
    "# 新增列/行并赋值\n",
    "\n",
    "df['e'] = 20\n",
    "df[['a','c']] = 100\n",
    "print(df)\n",
    "# 索引后直接修改值"
   ]
  },
  {
   "cell_type": "code",
   "execution_count": 50,
   "metadata": {},
   "outputs": [
    {
     "name": "stdout",
     "output_type": "stream",
     "text": [
      "           a          b          c          d\n",
      "0  12.351620  74.471394  56.015964  61.092441\n",
      "1  23.061527  91.817518  69.678690  14.832106\n",
      "2  65.334732  40.489227   7.234896  99.952920\n",
      "3  47.907514  11.695344  90.186409  18.699640\n",
      "           b          c          d\n",
      "0  74.471394  56.015964  61.092441\n",
      "1  91.817518  69.678690  14.832106\n",
      "2  40.489227   7.234896  99.952920\n",
      "3  11.695344  90.186409  18.699640\n",
      "-----\n",
      "           b          c          d\n",
      "1  91.817518  69.678690  14.832106\n",
      "2  40.489227   7.234896  99.952920\n",
      "3  11.695344  90.186409  18.699640\n",
      "           b          c          d\n",
      "0  74.471394  56.015964  61.092441\n",
      "3  11.695344  90.186409  18.699640\n",
      "           b          c          d\n",
      "0  74.471394  56.015964  61.092441\n",
      "1  91.817518  69.678690  14.832106\n",
      "2  40.489227   7.234896  99.952920\n",
      "3  11.695344  90.186409  18.699640\n",
      "-----\n",
      "           b          c\n",
      "0  74.471394  56.015964\n",
      "1  91.817518  69.678690\n",
      "2  40.489227   7.234896\n",
      "3  11.695344  90.186409\n",
      "           b          c          d\n",
      "0  74.471394  56.015964  61.092441\n",
      "1  91.817518  69.678690  14.832106\n",
      "2  40.489227   7.234896  99.952920\n",
      "3  11.695344  90.186409  18.699640\n"
     ]
    }
   ],
   "source": [
    "# 删除  del / drop()\n",
    "\n",
    "df = pd.DataFrame(np.random.rand(16).reshape(4,4)*100,\n",
    "                   columns = ['a','b','c','d'])\n",
    "print(df)\n",
    "\n",
    "del df['a']\n",
    "print(df)\n",
    "print('-----')\n",
    "# del语句 - 删除列\n",
    "\n",
    "print(df.drop(0))\n",
    "print(df.drop([1,2]))\n",
    "print(df)\n",
    "print('-----')\n",
    "# drop()删除行，inplace=False → 删除后生成新的数据，不改变原数据\n",
    "\n",
    "print(df.drop(['d'], axis = 1))\n",
    "print(df)\n",
    "# drop()删除列，需要加上axis = 1，inplace=False → 删除后生成新的数据，不改变原数据"
   ]
  },
  {
   "cell_type": "code",
   "execution_count": 51,
   "metadata": {},
   "outputs": [
    {
     "name": "stdout",
     "output_type": "stream",
     "text": [
      "          A         B         C   D\n",
      "0  0.188197 -0.864355  1.541761 NaN\n",
      "1 -0.383886  2.263777 -0.729035 NaN\n",
      "2  1.408411 -0.265004 -0.041134 NaN\n",
      "3 -0.028582  0.197926  1.028466 NaN\n",
      "4  0.689885 -1.450125  1.306084 NaN\n",
      "5  2.418933  1.130174 -0.817424 NaN\n",
      "6  0.509692  3.894432  1.126399 NaN\n",
      "7       NaN       NaN       NaN NaN\n",
      "8       NaN       NaN       NaN NaN\n",
      "9       NaN       NaN       NaN NaN\n"
     ]
    }
   ],
   "source": [
    "# 对齐\n",
    "\n",
    "df1 = pd.DataFrame(np.random.randn(10, 4), columns=['A', 'B', 'C', 'D'])\n",
    "df2 = pd.DataFrame(np.random.randn(7, 3), columns=['A', 'B', 'C'])\n",
    "print(df1 + df2)\n",
    "# DataFrame对象之间的数据自动按照列和索引（行标签）对齐"
   ]
  },
  {
   "cell_type": "code",
   "execution_count": 52,
   "metadata": {},
   "outputs": [
    {
     "name": "stdout",
     "output_type": "stream",
     "text": [
      "           a          b          c          d\n",
      "0  41.642377  50.688196  45.361126  76.524721\n",
      "1  40.661101  60.343825  79.966625  61.835813\n",
      "2  12.831094  54.553397  46.191899  11.115860\n",
      "3  52.551135  87.637384  69.010097  43.259785\n",
      "           a          b          c          d\n",
      "2  12.831094  54.553397  46.191899  11.115860\n",
      "1  40.661101  60.343825  79.966625  61.835813\n",
      "0  41.642377  50.688196  45.361126  76.524721\n",
      "3  52.551135  87.637384  69.010097  43.259785\n",
      "           a          b          c          d\n",
      "3  52.551135  87.637384  69.010097  43.259785\n",
      "0  41.642377  50.688196  45.361126  76.524721\n",
      "1  40.661101  60.343825  79.966625  61.835813\n",
      "2  12.831094  54.553397  46.191899  11.115860\n",
      "------\n",
      "   a  b  c\n",
      "0  1  0  8\n",
      "1  1  1  7\n",
      "2  1  2  6\n",
      "3  1  3  5\n",
      "4  2  4  4\n",
      "5  2  5  3\n",
      "6  2  6  2\n",
      "7  2  7  1\n",
      "   a  b  c\n",
      "3  1  3  5\n",
      "2  1  2  6\n",
      "1  1  1  7\n",
      "0  1  0  8\n",
      "7  2  7  1\n",
      "6  2  6  2\n",
      "5  2  5  3\n",
      "4  2  4  4\n"
     ]
    }
   ],
   "source": [
    "# 排序1 - 按值排序 .sort_values\n",
    "# 同样适用于Series\n",
    "\n",
    "df1 = pd.DataFrame(np.random.rand(16).reshape(4,4)*100,\n",
    "                   columns = ['a','b','c','d'])\n",
    "print(df1)\n",
    "print(df1.sort_values(['a'], ascending = True))  # 升序\n",
    "print(df1.sort_values(['a'], ascending = False))  # 降序\n",
    "print('------')\n",
    "# ascending参数：设置升序降序，默认升序\n",
    "# 单列排序\n",
    "\n",
    "df2 = pd.DataFrame({'a':[1,1,1,1,2,2,2,2],\n",
    "                  'b':list(range(8)),\n",
    "                  'c':list(range(8,0,-1))})\n",
    "print(df2)\n",
    "print(df2.sort_values(['a','c']))\n",
    "# 多列排序，按列顺序排序  先按照a列排序，然后在a列的基础上分别对c列进行排序"
   ]
  },
  {
   "cell_type": "code",
   "execution_count": 53,
   "metadata": {},
   "outputs": [
    {
     "name": "stdout",
     "output_type": "stream",
     "text": [
      "           a          b          c          d\n",
      "5  77.127624  27.818492  97.237470  57.074214\n",
      "4  15.119740  33.619821  47.544680  90.845413\n",
      "3   0.476552  94.617322  87.196046  87.365182\n",
      "2  21.088018  83.879127  14.659860  43.161499\n",
      "           a          b          c          d\n",
      "2  21.088018  83.879127  14.659860  43.161499\n",
      "3   0.476552  94.617322  87.196046  87.365182\n",
      "4  15.119740  33.619821  47.544680  90.845413\n",
      "5  77.127624  27.818492  97.237470  57.074214\n",
      "           a          b          c          d\n",
      "h  24.210562  24.170220  92.366109  11.883535\n",
      "s  54.510477  92.414721  92.918148  83.001856\n",
      "x  70.710244  28.175513  53.988156  25.846942\n",
      "g  48.119542   9.927192  56.889912  82.495444\n",
      "           a          b          c          d\n",
      "g  48.119542   9.927192  56.889912  82.495444\n",
      "h  24.210562  24.170220  92.366109  11.883535\n",
      "s  54.510477  92.414721  92.918148  83.001856\n",
      "x  70.710244  28.175513  53.988156  25.846942\n"
     ]
    }
   ],
   "source": [
    "# 排序2 - 索引排序 .sort_index\n",
    "\n",
    "df1 = pd.DataFrame(np.random.rand(16).reshape(4,4)*100,\n",
    "                  index = [5,4,3,2],\n",
    "                   columns = ['a','b','c','d'])\n",
    "df2 = pd.DataFrame(np.random.rand(16).reshape(4,4)*100,\n",
    "                  index = ['h','s','x','g'],\n",
    "                   columns = ['a','b','c','d'])\n",
    "print(df1)\n",
    "print(df1.sort_index())\n",
    "print(df2)\n",
    "print(df2.sort_index())\n",
    "# 按照index排序\n",
    "# 默认 ascending=True, inplace=False"
   ]
  },
  {
   "cell_type": "markdown",
   "metadata": {},
   "source": [
    "###### 课堂作业 #######"
   ]
  },
  {
   "cell_type": "code",
   "execution_count": 56,
   "metadata": {},
   "outputs": [
    {
     "name": "stdout",
     "output_type": "stream",
     "text": [
      "          v1         v2         v3\n",
      "a  64.747624  66.416410  29.855549\n",
      "b  15.363681  79.276846  78.421204\n",
      "c  14.596782  38.543484  89.849837\n",
      "          v1         v2         v3\n",
      "a  64.747624  66.416410  29.855549\n",
      "b  15.363681  79.276846  78.421204\n",
      "c  14.596782  38.543484  89.849837\n",
      "          v1         v2         v3\n",
      "c  14.596782  38.543484  89.849837\n",
      "b  15.363681  79.276846  78.421204\n",
      "a  64.747624  66.416410  29.855549\n",
      "          v1         v2         v3\n",
      "c  14.596782  38.543484  89.849837\n",
      "a  64.747624  66.416410  29.855549\n",
      "b  15.363681  79.276846  78.421204\n",
      "          v1         v2         v3\n",
      "b  15.363681  79.276846  78.421204\n",
      "a  64.747624  66.416410  29.855549\n",
      "c  14.596782  38.543484  89.849837\n"
     ]
    }
   ],
   "source": [
    "data = (np.random.rand(9)*100).reshape(3,3)\n",
    "\n",
    "df = pd.DataFrame(data,index=list('abc'),columns=['v1','v2','v3'])\n",
    "print(df)\n",
    "print(df.sort_index())\n",
    "print(df.sort_index(ascending=False))\n",
    "\n",
    "print(df.sort_values(['v2']))\n",
    "print(df.sort_values(['v2'],ascending=False))"
   ]
  },
  {
   "cell_type": "code",
   "execution_count": 60,
   "metadata": {},
   "outputs": [
    {
     "name": "stdout",
     "output_type": "stream",
     "text": [
      "          v1         v2\n",
      "a  35.339786  74.534705\n",
      "b  27.846159  11.802441\n",
      "c  80.493176  37.910645\n",
      "d  78.444950  23.569637\n",
      "e  34.169596  83.212744\n",
      "            a          b          c          d\n",
      "v1  35.339786  27.846159  80.493176  78.444950\n",
      "v2  74.534705  11.802441  37.910645  23.569637\n"
     ]
    }
   ],
   "source": [
    "data = (np.random.rand(10)*100).reshape(5,2)\n",
    "\n",
    "df = pd.DataFrame(data,index=list('abcde'),columns=['v1','v2'])\n",
    "print(df)\n",
    "df.drop(['e'],inplace=True)\n",
    "print(df.T)"
   ]
  }
 ],
 "metadata": {
  "kernelspec": {
   "display_name": "Python 3",
   "language": "python",
   "name": "python3"
  },
  "language_info": {
   "codemirror_mode": {
    "name": "ipython",
    "version": 3
   },
   "file_extension": ".py",
   "mimetype": "text/x-python",
   "name": "python",
   "nbconvert_exporter": "python",
   "pygments_lexer": "ipython3",
   "version": "3.7.3"
  }
 },
 "nbformat": 4,
 "nbformat_minor": 2
}
